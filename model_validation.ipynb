{
 "cells": [
  {
   "cell_type": "markdown",
   "metadata": {},
   "source": [
    "# Model validation"
   ]
  },
  {
   "cell_type": "code",
   "execution_count": 20,
   "metadata": {
    "execution": {
     "iopub.execute_input": "2025-07-05T18:58:59.481231Z",
     "iopub.status.busy": "2025-07-05T18:58:59.480941Z",
     "iopub.status.idle": "2025-07-05T18:59:00.285383Z",
     "shell.execute_reply": "2025-07-05T18:59:00.284842Z",
     "shell.execute_reply.started": "2025-07-05T18:58:59.481210Z"
    },
    "trusted": true
   },
   "outputs": [],
   "source": [
    "from scipy.special import softmax\n",
    "from transformers import AutoTokenizer, AutoModelForSequenceClassification\n",
    "\n",
    "import torch\n",
    "device = torch.device('cuda' if torch.cuda.is_available() else 'cpu')\n",
    "\n",
    "def preprocess(text):\n",
    "    \"\"\"Preprocess text (username and link placeholders)\"\"\"\n",
    "    new_text = []\n",
    "    for t in text.split(' '):\n",
    "        t = '@user' if t.startswith('@') and len(t) > 1 else t\n",
    "        t = 'http' if t.startswith('http') else t\n",
    "        new_text.append(t)\n",
    "    return ' '.join(new_text).strip()\n",
    "\n",
    "MODEL = 'Cloudy1225/stackoverflow-roberta-base-sentiment'\n",
    "tokenizer = AutoTokenizer.from_pretrained(MODEL)\n",
    "model = AutoModelForSequenceClassification.from_pretrained(MODEL)\n",
    "model.to(device)\n",
    "\n",
    "None"
   ]
  },
  {
   "cell_type": "markdown",
   "metadata": {},
   "source": [
    "## Original test dataset"
   ]
  },
  {
   "cell_type": "code",
   "execution_count": 4,
   "metadata": {
    "execution": {
     "iopub.execute_input": "2025-07-05T18:54:43.645117Z",
     "iopub.status.busy": "2025-07-05T18:54:43.644803Z",
     "iopub.status.idle": "2025-07-05T18:54:43.878972Z",
     "shell.execute_reply": "2025-07-05T18:54:43.878283Z",
     "shell.execute_reply.started": "2025-07-05T18:54:43.645094Z"
    },
    "trusted": true
   },
   "outputs": [
    {
     "name": "stdout",
     "output_type": "stream",
     "text": [
      "--2025-07-05 18:54:43--  https://raw.githubusercontent.com/collab-uniba/Senti4SD/refs/heads/master/Senti4SD_GoldStandard_and_DSM/Senti4SD_Train_Test_Partitions/test1326itemPOLARITY.csv\n",
      "Resolving raw.githubusercontent.com (raw.githubusercontent.com)... 185.199.110.133, 185.199.109.133, 185.199.111.133, ...\n",
      "Connecting to raw.githubusercontent.com (raw.githubusercontent.com)|185.199.110.133|:443... connected.\n",
      "HTTP request sent, awaiting response... 200 OK\n",
      "Length: 245886 (240K) [text/plain]\n",
      "Saving to: ‘test1326itemPOLARITY.csv.3’\n",
      "\n",
      "test1326itemPOLARIT 100%[===================>] 240.12K  --.-KB/s    in 0.03s   \n",
      "\n",
      "2025-07-05 18:54:43 (9.04 MB/s) - ‘test1326itemPOLARITY.csv.3’ saved [245886/245886]\n",
      "\n"
     ]
    },
    {
     "name": "stderr",
     "output_type": "stream",
     "text": [
      "huggingface/tokenizers: The current process just got forked, after parallelism has already been used. Disabling parallelism to avoid deadlocks...\n",
      "To disable this warning, you can either:\n",
      "\t- Avoid using `tokenizers` before the fork if possible\n",
      "\t- Explicitly set the environment variable TOKENIZERS_PARALLELISM=(true | false)\n"
     ]
    }
   ],
   "source": [
    "!wget https://raw.githubusercontent.com/collab-uniba/Senti4SD/refs/heads/master/Senti4SD_GoldStandard_and_DSM/Senti4SD_Train_Test_Partitions/test1326itemPOLARITY.csv"
   ]
  },
  {
   "cell_type": "code",
   "execution_count": 5,
   "metadata": {
    "execution": {
     "iopub.execute_input": "2025-07-05T18:54:45.435740Z",
     "iopub.status.busy": "2025-07-05T18:54:45.435421Z",
     "iopub.status.idle": "2025-07-05T18:54:45.461879Z",
     "shell.execute_reply": "2025-07-05T18:54:45.461319Z",
     "shell.execute_reply.started": "2025-07-05T18:54:45.435712Z"
    },
    "trusted": true
   },
   "outputs": [
    {
     "data": {
      "text/html": [
       "<div>\n",
       "<style scoped>\n",
       "    .dataframe tbody tr th:only-of-type {\n",
       "        vertical-align: middle;\n",
       "    }\n",
       "\n",
       "    .dataframe tbody tr th {\n",
       "        vertical-align: top;\n",
       "    }\n",
       "\n",
       "    .dataframe thead th {\n",
       "        text-align: right;\n",
       "    }\n",
       "</style>\n",
       "<table border=\"1\" class=\"dataframe\">\n",
       "  <thead>\n",
       "    <tr style=\"text-align: right;\">\n",
       "      <th></th>\n",
       "      <th>id</th>\n",
       "      <th>sentiment</th>\n",
       "      <th>text</th>\n",
       "    </tr>\n",
       "  </thead>\n",
       "  <tbody>\n",
       "    <tr>\n",
       "      <th>0</th>\n",
       "      <td>t4</td>\n",
       "      <td>positive</td>\n",
       "      <td>@DrabJay: excellent suggestion! Code changed. :-)</td>\n",
       "    </tr>\n",
       "    <tr>\n",
       "      <th>1</th>\n",
       "      <td>t5</td>\n",
       "      <td>neutral</td>\n",
       "      <td>Any decent browser should protect against mali...</td>\n",
       "    </tr>\n",
       "    <tr>\n",
       "      <th>2</th>\n",
       "      <td>t8</td>\n",
       "      <td>negative</td>\n",
       "      <td>I swear - I don't put pseudo code I get told o...</td>\n",
       "    </tr>\n",
       "    <tr>\n",
       "      <th>3</th>\n",
       "      <td>t9</td>\n",
       "      <td>neutral</td>\n",
       "      <td>I have attached below</td>\n",
       "    </tr>\n",
       "    <tr>\n",
       "      <th>4</th>\n",
       "      <td>t13</td>\n",
       "      <td>negative</td>\n",
       "      <td>When I refactor the following line: using Resh...</td>\n",
       "    </tr>\n",
       "    <tr>\n",
       "      <th>...</th>\n",
       "      <td>...</td>\n",
       "      <td>...</td>\n",
       "      <td>...</td>\n",
       "    </tr>\n",
       "    <tr>\n",
       "      <th>1321</th>\n",
       "      <td>t4414</td>\n",
       "      <td>neutral</td>\n",
       "      <td>@yaauie - sure, I could have put a `raise 'oh ...</td>\n",
       "    </tr>\n",
       "    <tr>\n",
       "      <th>1322</th>\n",
       "      <td>t4415</td>\n",
       "      <td>positive</td>\n",
       "      <td>Excellent resource:</td>\n",
       "    </tr>\n",
       "    <tr>\n",
       "      <th>1323</th>\n",
       "      <td>t4418</td>\n",
       "      <td>positive</td>\n",
       "      <td>+1 from me, I loved the leap from MFC to Qt ;)</td>\n",
       "    </tr>\n",
       "    <tr>\n",
       "      <th>1324</th>\n",
       "      <td>t4420</td>\n",
       "      <td>positive</td>\n",
       "      <td>Works great! And you can add \"desc\" after the ...</td>\n",
       "    </tr>\n",
       "    <tr>\n",
       "      <th>1325</th>\n",
       "      <td>t4422</td>\n",
       "      <td>positive</td>\n",
       "      <td>Fortunately I'm doing *very* little with Offic...</td>\n",
       "    </tr>\n",
       "  </tbody>\n",
       "</table>\n",
       "<p>1326 rows × 3 columns</p>\n",
       "</div>"
      ],
      "text/plain": [
       "         id sentiment                                               text\n",
       "0        t4  positive  @DrabJay: excellent suggestion! Code changed. :-)\n",
       "1        t5   neutral  Any decent browser should protect against mali...\n",
       "2        t8  negative  I swear - I don't put pseudo code I get told o...\n",
       "3        t9   neutral                              I have attached below\n",
       "4       t13  negative  When I refactor the following line: using Resh...\n",
       "...     ...       ...                                                ...\n",
       "1321  t4414   neutral  @yaauie - sure, I could have put a `raise 'oh ...\n",
       "1322  t4415  positive                                Excellent resource:\n",
       "1323  t4418  positive     +1 from me, I loved the leap from MFC to Qt ;)\n",
       "1324  t4420  positive  Works great! And you can add \"desc\" after the ...\n",
       "1325  t4422  positive  Fortunately I'm doing *very* little with Offic...\n",
       "\n",
       "[1326 rows x 3 columns]"
      ]
     },
     "execution_count": 5,
     "metadata": {},
     "output_type": "execute_result"
    }
   ],
   "source": [
    "import pandas as pd\n",
    "import numpy as np\n",
    "\n",
    "df = pd.read_csv('/kaggle/working/test1326itemPOLARITY.csv', sep=';', header=None)\n",
    "\n",
    "df.rename(columns={0: 'id', 1: 'sentiment', 2:'text'}, inplace=True)\n",
    "\n",
    "def classify_sentiment(tokenizer, model, text):\n",
    "    encoded_input = tokenizer(text, return_tensors='pt', truncation=True, max_length=512)\n",
    "    encoded_input = {k: v.to(device) for k, v in encoded_input.items()}\n",
    "    output = model(**encoded_input)\n",
    "    scores = output[0][0].detach().cpu().numpy()\n",
    "    scores = softmax(scores)\n",
    "    return int(np.argmax(scores))\n",
    "\n",
    "df['predicted'] = df['text'].apply(lambda x: classify_sentiment(tokenizer, model, x))"
   ]
  },
  {
   "cell_type": "code",
   "execution_count": 17,
   "metadata": {
    "execution": {
     "iopub.execute_input": "2025-07-05T18:57:45.228761Z",
     "iopub.status.busy": "2025-07-05T18:57:45.228482Z",
     "iopub.status.idle": "2025-07-05T18:57:45.246088Z",
     "shell.execute_reply": "2025-07-05T18:57:45.245567Z",
     "shell.execute_reply.started": "2025-07-05T18:57:45.228743Z"
    },
    "trusted": true
   },
   "outputs": [
    {
     "name": "stdout",
     "output_type": "stream",
     "text": [
      "--- Classification Report ---\n",
      "              precision    recall  f1-score   support\n",
      "\n",
      "    Negative       0.90      0.89      0.89       360\n",
      "     Neutral       0.88      0.89      0.89       508\n",
      "    Positive       0.96      0.95      0.95       458\n",
      "\n",
      "    accuracy                           0.91      1326\n",
      "   macro avg       0.91      0.91      0.91      1326\n",
      "weighted avg       0.91      0.91      0.91      1326\n",
      "\n",
      "\n",
      "--- Overall Accuracy ---\n",
      "Accuracy Score: 0.91\n",
      "\n",
      "--- Confusion Matrix ---\n",
      "[[319  39   2]\n",
      " [ 36 454  18]\n",
      " [  1  23 434]]\n"
     ]
    }
   ],
   "source": [
    "import numpy as np\n",
    "from sklearn.metrics import classification_report, confusion_matrix, accuracy_score\n",
    "\n",
    "label_map = {'positive': 2, 'neutral': 1, 'negative': 0}\n",
    "\n",
    "ground_truth = np.array(list(map(lambda x: label_map[x], df['sentiment'])))\n",
    "predicted = np.array(df['predicted'])\n",
    "\n",
    "target_names = ['Negative', 'Neutral', 'Positive']\n",
    "\n",
    "print(\"--- Classification Report ---\")\n",
    "report = classification_report(ground_truth, predicted, target_names=target_names)\n",
    "print(report)\n",
    "\n",
    "print(\"\\n--- Overall Accuracy ---\")\n",
    "accuracy = accuracy_score(ground_truth, predicted)\n",
    "print(f\"Accuracy Score: {accuracy:.2f}\")\n",
    "\n",
    "print(\"\\n--- Confusion Matrix ---\")\n",
    "\n",
    "cm = confusion_matrix(ground_truth, predicted)\n",
    "print(cm)"
   ]
  },
  {
   "cell_type": "markdown",
   "metadata": {},
   "source": [
    "## Our (small) test dataset"
   ]
  },
  {
   "cell_type": "code",
   "execution_count": null,
   "metadata": {},
   "outputs": [
    {
     "name": "stdout",
     "output_type": "stream",
     "text": [
      "--- Classification Report ---\n",
      "              precision    recall  f1-score   support\n",
      "\n",
      "    Negative       0.87      0.94      0.90       111\n",
      "     Neutral       0.97      0.82      0.89       142\n",
      "    Positive       0.88      0.98      0.93       107\n",
      "\n",
      "    accuracy                           0.90       360\n",
      "   macro avg       0.90      0.91      0.90       360\n",
      "weighted avg       0.91      0.90      0.90       360\n",
      "\n",
      "\n",
      "--- Overall Accuracy ---\n",
      "Accuracy Score: 0.90\n",
      "\n",
      "--- Confusion Matrix ---\n",
      "[[104   3   4]\n",
      " [ 15 116  11]\n",
      " [  1   1 105]]\n"
     ]
    }
   ],
   "source": [
    "import json\n",
    "\n",
    "human = []\n",
    "labelled = []\n",
    "\n",
    "with open('./data/full-human-labels.jsonl', 'r') as inp:\n",
    "    for line in inp:\n",
    "        obj = json.loads(line)\n",
    "        human.append(obj['human_label_sentiment'])\n",
    "        labelled.append(obj['labeled_sentiment'])\n",
    "\n",
    "ground_truth = np.array(human)\n",
    "predicted = np.array(labelled)\n",
    "\n",
    "# The labels you are using\n",
    "target_names = ['Negative', 'Neutral', 'Positive']\n",
    "\n",
    "# 1. Generate the main Classification Report\n",
    "print(\"--- Classification Report ---\")\n",
    "report = classification_report(ground_truth, predicted, target_names=target_names)\n",
    "print(report)\n",
    "\n",
    "# 2. Calculate the overall Accuracy\n",
    "print(\"\\n--- Overall Accuracy ---\")\n",
    "accuracy = accuracy_score(ground_truth, predicted)\n",
    "print(f\"Accuracy Score: {accuracy:.2f}\")\n",
    "\n",
    "# 3. Display the Confusion Matrix\n",
    "print(\"\\n--- Confusion Matrix ---\")\n",
    "# The matrix rows represent the actual classes, and columns represent the predicted classes.\n",
    "cm = confusion_matrix(ground_truth, predicted)\n",
    "print(cm)"
   ]
  }
 ],
 "metadata": {
  "kaggle": {
   "accelerator": "nvidiaTeslaT4",
   "dataSources": [],
   "dockerImageVersionId": 31041,
   "isGpuEnabled": true,
   "isInternetEnabled": true,
   "language": "python",
   "sourceType": "notebook"
  },
  "kernelspec": {
   "display_name": "env",
   "language": "python",
   "name": "python3"
  },
  "language_info": {
   "codemirror_mode": {
    "name": "ipython",
    "version": 3
   },
   "file_extension": ".py",
   "mimetype": "text/x-python",
   "name": "python",
   "nbconvert_exporter": "python",
   "pygments_lexer": "ipython3",
   "version": "3.13.3"
  }
 },
 "nbformat": 4,
 "nbformat_minor": 4
}
