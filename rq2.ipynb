{
 "cells": [
  {
   "cell_type": "markdown",
   "id": "67fab0c4",
   "metadata": {},
   "source": [
    "# RQ2: Como o sentimento afeta o engajamento dos usuários, especialmente novatos?"
   ]
  },
  {
   "cell_type": "code",
   "execution_count": null,
   "id": "7631e931",
   "metadata": {},
   "outputs": [],
   "source": [
    "import pandas as pd\n",
    "import helper\n",
    "import numpy as np\n",
    "\n",
    "\n",
    "#Get post + user data\n",
    "post_data = helper.load_post_data('./data/analyzed.jsonl')\n",
    "user_data = helper.load_user_data('./data/dump-users.json')"
   ]
  },
  {
   "cell_type": "markdown",
   "id": "4279d3e8",
   "metadata": {},
   "source": [
    "## Analisando engajamento em torno do sentimento da **pergunta original**: número médio de respostas, comentários, score"
   ]
  },
  {
   "cell_type": "code",
   "execution_count": 40,
   "id": "2cb23e02",
   "metadata": {},
   "outputs": [],
   "source": [
    "ans = {'unanswered': [0,0,0], 'total': [0,0,0], \n",
    "       'response_times': [[], [], []], 'num_answers': [[], [], []], 'scores': [[], [], []]}\n",
    "\n",
    "for id, post in post_data.items():\n",
    "    #Check question sentiment\n",
    "    q_sent = post['body_sentiment']\n",
    "\n",
    "    ans['total'][q_sent] += 1\n",
    "    ans['num_answers'][q_sent].append(len(post['answers']))\n",
    "    ans['scores'][q_sent].append(post['score'])\n",
    "    \n",
    "    if len(post['answers']) == 0: ans['unanswered'][q_sent] += 1\n",
    "    else:\n",
    "        quickest = (min([a['creation_date'] for a in post['answers']]) - post['creation_date'])\n",
    "        ans['response_times'][q_sent].append(quickest.seconds / 3600)"
   ]
  },
  {
   "cell_type": "code",
   "execution_count": 42,
   "id": "00297b40",
   "metadata": {},
   "outputs": [
    {
     "name": "stdout",
     "output_type": "stream",
     "text": [
      "Number of question for each answer: [120803, 720892, 158305]\n",
      "Number of unanswered question per question sentiment:\n",
      "0.14792678989760188\n",
      "0.14028176203925138\n",
      "0.14839076466315024\n",
      "Metric: Amount of anwers per question sentiment\n",
      "Mean [1.3536998253354635, 1.339779051508409, 1.299655727867092]\n",
      "Standard deviation: [1.2015125090161722, 1.1515028855277245, 1.039488274165542]\n",
      "\n",
      "Metric: Question score per question sentiment\n",
      "Mean: [1.3843613155302434, 1.4315445309422217, 0.9691481633555479]\n",
      "Standard deviation: [9.173996349083579, 10.303536846208223, 4.865474532057022]\n",
      "\n",
      "Metric: Response time per question sentiment\n",
      "Mean: [3.7243113130763588, 3.9938617876231026, 4.071148335237191]\n",
      "Standard deviation: [6.14632485563535, 6.278911002127294, 6.3315843155574125]\n"
     ]
    }
   ],
   "source": [
    "print('Number of question for each answer:', ans['total'])\n",
    "\n",
    "print('Number of unanswered question per question sentiment:')\n",
    "\n",
    "for u,t in zip(ans['unanswered'], ans['total']):\n",
    "    print(u / t)\n",
    "\n",
    "print('Metric: Amount of anwers per question sentiment')\n",
    "print('Mean', [float(np.mean(a)) for a in ans['num_answers']])\n",
    "print('Standard deviation:', [float(np.std(a)) for a in ans['num_answers']])\n",
    "\n",
    "print('\\nMetric: Question score per question sentiment')\n",
    "print('Mean:', [float(np.mean(a)) for a in ans['scores']])\n",
    "print('Standard deviation:', [float(np.std(a)) for a in ans['scores']])\n",
    "\n",
    "print('\\nMetric: Response time per question sentiment')\n",
    "print('Mean:', [float(np.mean(a)) for a in ans['response_times']])\n",
    "print('Standard deviation:', [float(np.std(a)) for a in ans['response_times']])"
   ]
  },
  {
   "cell_type": "code",
   "execution_count": 41,
   "id": "b7071232",
   "metadata": {},
   "outputs": [
    {
     "data": {
      "text/plain": [
       "<Axes: >"
      ]
     },
     "execution_count": 41,
     "metadata": {},
     "output_type": "execute_result"
    },
    {
     "data": {
      "image/png": "[encoded data removed]",
      "text/plain": [
       "<Figure size 640x480 with 1 Axes>"
      ]
     },
     "metadata": {},
     "output_type": "display_data"
    }
   ],
   "source": [
    "import seaborn as sns\n",
    "\n",
    "sns.boxplot(ans['response_times'])"
   ]
  }
 ],
 "metadata": {
  "kernelspec": {
   "display_name": "env",
   "language": "python",
   "name": "python3"
  },
  "language_info": {
   "codemirror_mode": {
    "name": "ipython",
    "version": 3
   },
   "file_extension": ".py",
   "mimetype": "text/x-python",
   "name": "python",
   "nbconvert_exporter": "python",
   "pygments_lexer": "ipython3",
   "version": "3.13.3"
  }
 },
 "nbformat": 4,
 "nbformat_minor": 5
}
