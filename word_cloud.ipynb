{
 "cells": [
  {
   "cell_type": "code",
   "execution_count": 58,
   "id": "5ec919af",
   "metadata": {},
   "outputs": [],
   "source": [
    "from nltk.stem import WordNetLemmatizer as wnl\n",
    "from nltk.corpus import stopwords\n",
    "from nltk.tokenize import word_tokenize\n",
    "from nltk.tokenize import TweetTokenizer\n",
    "tknzr = TweetTokenizer()\n",
    "import json\n",
    "import numpy as np\n",
    "lemma = wnl()\n",
    "stop_words = set(stopwords.words('english'))"
   ]
  },
  {
   "cell_type": "code",
   "execution_count": null,
   "id": "f2a07e1d",
   "metadata": {},
   "outputs": [
    {
     "name": "stdout",
     "output_type": "stream",
     "text": [
      "10000\n"
     ]
    }
   ],
   "source": [
    "words = {}\n",
    "words_neg = {}\n",
    "cnt = 0\n",
    "\n",
    "def proc_text(text, neg):\n",
    "    global cnt\n",
    "    cnt += 1\n",
    "    text = set(lemma.lemmatize(w).lower() for w in tknzr.tokenize(text))\n",
    "    if neg:\n",
    "        for w in text:\n",
    "            if w in stop_words: continue\n",
    "            words[w] = words.get(w,0) + 1\n",
    "            words_neg[w] = words.get(w,0) + 1\n",
    "        else:\n",
    "            for w in text:\n",
    "                if w in stop_words: continue\n",
    "                words[w] = words.get(w,0) + 1\n",
    "\n",
    "    \n",
    "\n",
    "with open('./data/analyzed.jsonl', 'r') as inp:\n",
    "    count = 0\n",
    "    for line in inp:\n",
    "        count += 1\n",
    "        if count % 10000 == 0: print(count)\n",
    "        if count == 50000: break\n",
    "        obj = json.loads(line)\n",
    "        proc_text(obj['body'], obj['body_sentiment'] == 0)\n",
    "        for a in obj['answers']:\n",
    "            proc_text(a['body'], a['body_sentiment'] == 0)\n",
    "            for c in a['comments']: proc_text(c['text'], c['text_sentiment'] == 0)\n",
    "        for c in obj['comments']: proc_text(c['text'], c['text_sentiment'] == 0)\n"
   ]
  },
  {
   "cell_type": "code",
   "execution_count": null,
   "id": "41a270b4",
   "metadata": {},
   "outputs": [],
   "source": [
    "idf = {k: np.log(cnt / v) for k,v in words.items()}"
   ]
  },
  {
   "cell_type": "code",
   "execution_count": null,
   "id": "082813d9",
   "metadata": {},
   "outputs": [],
   "source": [
    "tfidf = {k: v * idf[k] for k,v in words_neg.items() if v < .2 * len(idf)}\n",
    "\n",
    "res = sorted([(v,k) for k,v in tfidf.items()], reverse=True)"
   ]
  },
  {
   "cell_type": "code",
   "execution_count": null,
   "id": "43024006",
   "metadata": {},
   "outputs": [
    {
     "data": {
      "text/plain": [
       "[(np.float64(40507.64964116308), 'like'),\n",
       " (np.float64(39619.98454437217), 'work'),\n",
       " (np.float64(38880.07808880731), 'get'),\n",
       " (np.float64(38726.485363844826), '@user'),\n",
       " (np.float64(37766.80107271178), '\"'),\n",
       " (np.float64(37715.19264535814), '...'),\n",
       " (np.float64(37697.98533975212), 'The'),\n",
       " (np.float64(36826.06254895251), 'using'),\n",
       " (np.float64(36800.074364165695), 'use'),\n",
       " (np.float64(34809.36756486443), 'problem'),\n",
       " (np.float64(33828.666748289295), 'want'),\n",
       " (np.float64(32840.04587139179), 'error'),\n",
       " (np.float64(32553.526335540282), 'know'),\n",
       " (np.float64(31599.461684884336), 'This'),\n",
       " (np.float64(31563.30735229749), 'wa'),\n",
       " (np.float64(30737.74133127477), 'question'),\n",
       " (np.float64(29593.92509989584), 'one'),\n",
       " (np.float64(28855.71110955842), '!'),\n",
       " (np.float64(28549.751620382223), 'need'),\n",
       " (np.float64(27935.238581986727), '-'),\n",
       " (np.float64(27869.85720352023), 'would'),\n",
       " (np.float64(27813.78428021499), 'wrong'),\n",
       " (np.float64(27757.681981115413), 'way'),\n",
       " (np.float64(26884.285163624776), 'http'),\n",
       " (np.float64(26013.04247497158), 'trying'),\n",
       " (np.float64(25955.965356940345), 'It'),\n",
       " (np.float64(25727.336597452275), 'Sorry'),\n",
       " (np.float64(25517.306550514557), 'But'),\n",
       " (np.float64(25258.942752220344), 'file'),\n",
       " (np.float64(24305.824875805596), 'still'),\n",
       " (np.float64(24112.146785256416), 'time'),\n",
       " (np.float64(23431.193010509425), 'make'),\n",
       " (np.float64(23245.5209118836), '/'),\n",
       " (np.float64(22902.53280216274), 'sorry'),\n",
       " (np.float64(22735.483830856294), 'tried'),\n",
       " (np.float64(22686.294637273448), 'see'),\n",
       " (np.float64(22469.551242075355), 'ha'),\n",
       " (np.float64(22143.47596679553), 'understand'),\n",
       " (np.float64(22133.576731897112), 'something'),\n",
       " (np.float64(21667.08966126482), 'answer'),\n",
       " (np.float64(21497.763444060474), 'doe'),\n",
       " (np.float64(21068.02415473296), 'really'),\n",
       " (np.float64(20957.75403517274), 'If'),\n",
       " (np.float64(20827.255628495954), 'What'),\n",
       " (np.float64(20495.109051915995), 'think'),\n",
       " (np.float64(20343.710288912927), 'working'),\n",
       " (np.float64(19989.401275453296), 'sure'),\n",
       " (np.float64(19877.74107832292), \"I've\"),\n",
       " (np.float64(19388.75119730955), 'help'),\n",
       " (np.float64(19276.285196234283), 'function')]"
      ]
     },
     "execution_count": 74,
     "metadata": {},
     "output_type": "execute_result"
    }
   ],
   "source": [
    "res[:50]"
   ]
  }
 ],
 "metadata": {
  "kernelspec": {
   "display_name": "env",
   "language": "python",
   "name": "python3"
  },
  "language_info": {
   "codemirror_mode": {
    "name": "ipython",
    "version": 3
   },
   "file_extension": ".py",
   "mimetype": "text/x-python",
   "name": "python",
   "nbconvert_exporter": "python",
   "pygments_lexer": "ipython3",
   "version": "3.13.3"
  }
 },
 "nbformat": 4,
 "nbformat_minor": 5
}
